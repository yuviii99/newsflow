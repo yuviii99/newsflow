{
 "cells": [
  {
   "cell_type": "markdown",
   "metadata": {},
   "source": [
    "## NewsFlow ETL"
   ]
  },
  {
   "cell_type": "markdown",
   "metadata": {},
   "source": [
    "### Import Libraries and Connect to the News API"
   ]
  },
  {
   "cell_type": "code",
   "execution_count": null,
   "metadata": {},
   "outputs": [],
   "source": [
    "import pandas as pd\n",
    "import sqlite3\n",
    "from newsapi import NewsApiClient\n",
    "import logging\n",
    "from config import api_key"
   ]
  },
  {
   "cell_type": "code",
   "execution_count": null,
   "metadata": {},
   "outputs": [],
   "source": [
    "news_api = NewsApiClient(api_key=api_key['API_KEY'])"
   ]
  },
  {
   "cell_type": "markdown",
   "metadata": {},
   "source": [
    "### Retrieve and Print News Articles"
   ]
  },
  {
   "cell_type": "code",
   "execution_count": null,
   "metadata": {},
   "outputs": [],
   "source": [
    "def extract_news_data():\n",
    "    try:\n",
    "        result = news_api.get_everything(q=\"AI\", language=\"en\",sort_by='publishedAt')\n",
    "        logging.info(\"Connection is successful.\")\n",
    "        return result[\"articles\"]\n",
    "    except:\n",
    "        logging.error(\"Connection is unsuccessful.\")\n",
    "        return None\n",
    "\n",
    "articles = extract_news_data()\n",
    "\n",
    "print(articles[:3])"
   ]
  },
  {
   "cell_type": "markdown",
   "metadata": {},
   "source": [
    "### Clean Author Column"
   ]
  },
  {
   "cell_type": "code",
   "execution_count": null,
   "metadata": {},
   "outputs": [],
   "source": [
    "def clean_author_name(text):\n",
    "    try:\n",
    "        name = text.split(',')[0].title()\n",
    "        return name\n",
    "    except AttributeError:\n",
    "        return \"No Author\""
   ]
  },
  {
   "cell_type": "markdown",
   "metadata": {},
   "source": [
    "### Transform News Data"
   ]
  },
  {
   "cell_type": "code",
   "execution_count": null,
   "metadata": {},
   "outputs": [],
   "source": [
    "def transform_news_data(articles):\n",
    "    article_list = []\n",
    "    for i in articles:\n",
    "        article_list.append([value.get(\"name\", 0) if key == \"source\" else value for key, value in i.items() if key in [\"author\", \"title\", \"publishedAt\", \"content\", \"url\", \"source\"]])\n",
    "\n",
    "    df = pd.DataFrame(article_list, columns=[\"Source\", \"Author Name\", \"News Title\", \"URL\", \"Date Published\", \"Content\"])\n",
    "\n",
    "    df[\"Date Published\"] = pd.to_datetime(df[\"Date Published\"]).dt.strftime('%Y-%m-%d %H:%M:%S')\n",
    "    df[\"Author Name\"] = df[\"Author Name\"].apply(clean_author_name)\n",
    " \n",
    "    return df\n",
    "\n",
    "transformed_data = transform_news_data(articles)"
   ]
  },
  {
   "cell_type": "markdown",
   "metadata": {},
   "source": [
    "### Load the Data into SQLite Database\n"
   ]
  },
  {
   "cell_type": "code",
   "execution_count": null,
   "metadata": {},
   "outputs": [],
   "source": []
  },
  {
   "cell_type": "markdown",
   "metadata": {},
   "source": [
    "### Verify Data Loading"
   ]
  },
  {
   "cell_type": "code",
   "execution_count": null,
   "metadata": {},
   "outputs": [],
   "source": []
  }
 ],
 "metadata": {
  "kernelspec": {
   "display_name": "Python 3",
   "language": "python",
   "name": "python3"
  },
  "language_info": {
   "codemirror_mode": {
    "name": "ipython",
    "version": 3
   },
   "file_extension": ".py",
   "mimetype": "text/x-python",
   "name": "python",
   "nbconvert_exporter": "python",
   "pygments_lexer": "ipython3",
   "version": "3.9.6"
  },
  "orig_nbformat": 4,
  "vscode": {
   "interpreter": {
    "hash": "916dbcbb3f70747c44a77c7bcd40155683ae19c65e1c03b4aa3499c5328201f1"
   }
  }
 },
 "nbformat": 4,
 "nbformat_minor": 2
}
