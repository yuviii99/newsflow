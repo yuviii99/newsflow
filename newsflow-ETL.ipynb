{
 "cells": [
  {
   "cell_type": "markdown",
   "metadata": {},
   "source": [
    "## Build a News ETL Data Pipeline Using Python and SQLite"
   ]
  },
  {
   "cell_type": "markdown",
   "metadata": {},
   "source": [
    "### Task 1: Import Libraries and Connect to the News API"
   ]
  },
  {
   "cell_type": "code",
   "execution_count": 2,
   "metadata": {},
   "outputs": [],
   "source": [
    "import pandas as pd\n",
    "import sqlite3\n",
    "from newsapi import NewsApiClient\n",
    "import logging"
   ]
  },
  {
   "cell_type": "code",
   "execution_count": 3,
   "metadata": {},
   "outputs": [],
   "source": [
    "news_api = NewsApiClient(api_key='88caccdda52746a38028ad11b1d335bf')"
   ]
  },
  {
   "cell_type": "markdown",
   "metadata": {},
   "source": [
    "### Task 2: Retrieve and Print News Articles"
   ]
  },
  {
   "cell_type": "code",
   "execution_count": 5,
   "metadata": {},
   "outputs": [
    {
     "name": "stdout",
     "output_type": "stream",
     "text": [
      "[{'source': {'id': 'cbc-news', 'name': 'CBC News'}, 'author': None, 'title': 'Will the AI chatbot wave come for the federal government?', 'description': \"The kind of chatbots that people encounter when interacting with private businesses may be helpful in a variety of public service uses, the federal government's chief data officer says.\", 'url': 'https://www.cbc.ca/news/politics/federal-civil-service-ai-chatbot-1.7277623', 'urlToImage': 'https://i.cbc.ca/1.7178747.1713548713!/fileImage/httpImage/image.jpg_gen/derivatives/16x9_620/1258532179.jpg', 'publishedAt': '2024-07-27T14:06:50Z', 'content': 'Delayed air passengers, disgruntled phone customers and even hungry people craving a slice of pizza increasingly find their pleas to private companies being answered by artificial intelligence.\\r\\nSoon… [+4286 chars]'}, {'source': {'id': None, 'name': 'Wccftech'}, 'author': 'Sarfraz Khan', 'title': 'Lenovo Launches High-End Yoga Portal Mini PC: Desktop-Grade Intel 14th Gen CPU & NVIDIA RTX 4070 GPU, Strong IO For $2500', 'description': 'Lenovo has unveiled its high-end Yoga Portal Mini PC featuring desktop-grade Intel 14th Gen CPUs, up to RTX 4070 GPUs & massive IO capabilities. The Lenovo YOGA Portal Mini PC is smaller than a console, yet more powerful than PS5, supports desktop-grade Intel…', 'url': 'https://wccftech.com/lenovo-yoga-portal-mini-pc-desktop-intel-14th-gen-rtx-4070-gpu-strong-io-2500-usd/', 'urlToImage': 'https://cdn.wccftech.com/wp-content/uploads/2024/07/Screenshot_20240727_184240-g-standard-scale-6_00x-Custom.jpg', 'publishedAt': '2024-07-27T14:05:24Z', 'content': 'Lenovo has unveiled its high-end Yoga Portal Mini PC featuring desktop-grade Intel 14th Gen CPUs, up to RTX 4070 GPUs &amp; massive IO capabilities.\\r\\nLenovo has officially launched one of the smalles… [+2757 chars]'}, {'source': {'id': None, 'name': 'Biztoc.com'}, 'author': 'aol.com', 'title': 'An AI-dominated future with no jobs could be a dream or a nightmare', 'description': 'Mid-summer is peak vacation time, and if you’re taking a break from work, you may well end up wishing this period of rest and relaxation were longer. But how much longer? How about forever? Would you enjoy a life of total leisure?\\nElon Musk, when asked to for…', 'url': 'https://biztoc.com/x/09826156203dc9fe', 'urlToImage': 'https://biztoc.com/cdn/09826156203dc9fe_s.webp', 'publishedAt': '2024-07-27T14:03:45Z', 'content': 'Mid-summer is peak vacation time, and if youre taking a break from work, you may well end up wishing this period of rest and relaxation were longer. But how much longer? How about forever? Would you … [+128 chars]'}]\n"
     ]
    }
   ],
   "source": [
    "def extract_news_data():\n",
    "    try:\n",
    "        result = news_api.get_everything(q=\"AI\", language=\"en\",sort_by='publishedAt')\n",
    "        logging.info(\"Connection is successful.\")\n",
    "        return result[\"articles\"]\n",
    "    except:\n",
    "        logging.error(\"Connection is unsuccessful.\")\n",
    "        return None\n",
    "\n",
    "articles = extract_news_data()\n",
    "\n",
    "print(articles[:3])"
   ]
  },
  {
   "cell_type": "markdown",
   "metadata": {},
   "source": [
    "### Task 3: Clean Author Column"
   ]
  },
  {
   "cell_type": "code",
   "execution_count": null,
   "metadata": {},
   "outputs": [],
   "source": []
  },
  {
   "cell_type": "markdown",
   "metadata": {},
   "source": [
    "### Task 4: Transform News Data"
   ]
  },
  {
   "cell_type": "code",
   "execution_count": null,
   "metadata": {},
   "outputs": [],
   "source": []
  },
  {
   "cell_type": "markdown",
   "metadata": {},
   "source": [
    "### Task 5: Load the Data into SQLite Database\n"
   ]
  },
  {
   "cell_type": "code",
   "execution_count": null,
   "metadata": {},
   "outputs": [],
   "source": []
  },
  {
   "cell_type": "markdown",
   "metadata": {},
   "source": [
    "### Task 8: Verify Data Loading"
   ]
  },
  {
   "cell_type": "code",
   "execution_count": null,
   "metadata": {},
   "outputs": [],
   "source": []
  }
 ],
 "metadata": {
  "kernelspec": {
   "display_name": "Python 3",
   "language": "python",
   "name": "python3"
  },
  "language_info": {
   "codemirror_mode": {
    "name": "ipython",
    "version": 3
   },
   "file_extension": ".py",
   "mimetype": "text/x-python",
   "name": "python",
   "nbconvert_exporter": "python",
   "pygments_lexer": "ipython3",
   "version": "3.8.10"
  },
  "orig_nbformat": 4,
  "vscode": {
   "interpreter": {
    "hash": "916dbcbb3f70747c44a77c7bcd40155683ae19c65e1c03b4aa3499c5328201f1"
   }
  }
 },
 "nbformat": 4,
 "nbformat_minor": 2
}
